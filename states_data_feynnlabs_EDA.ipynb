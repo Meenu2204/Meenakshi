{
  "nbformat": 4,
  "nbformat_minor": 0,
  "metadata": {
    "colab": {
      "provenance": [],
      "include_colab_link": true
    },
    "kernelspec": {
      "name": "python3",
      "display_name": "Python 3"
    },
    "language_info": {
      "name": "python"
    }
  },
  "cells": [
    {
      "cell_type": "markdown",
      "metadata": {
        "id": "view-in-github",
        "colab_type": "text"
      },
      "source": [
        "<a href=\"https://colab.research.google.com/github/Meenu2204/Meenakshi/blob/main/states_data_feynnlabs_EDA.ipynb\" target=\"_parent\"><img src=\"https://colab.research.google.com/assets/colab-badge.svg\" alt=\"Open In Colab\"/></a>"
      ]
    },
    {
      "cell_type": "markdown",
      "source": [],
      "metadata": {
        "id": "uIo6JYDEZ8Ur"
      }
    },
    {
      "cell_type": "code",
      "execution_count": null,
      "metadata": {
        "id": "dgjZPy0lZ0EN"
      },
      "outputs": [],
      "source": [
        "import pandas as pd\n",
        "import numpy as np\n",
        "import matplotlib.pyplot as plt\n",
        "import seaborn as sns"
      ]
    },
    {
      "cell_type": "code",
      "source": [
        "df = pd.read_csv('States_data_evs.csv')\n",
        "df.head()"
      ],
      "metadata": {
        "colab": {
          "base_uri": "https://localhost:8080/",
          "height": 354
        },
        "id": "bAXvyltGaR-V",
        "outputId": "5a9d9c9c-3ddd-4ff6-d9af-61bf4fddef1e"
      },
      "execution_count": null,
      "outputs": [
        {
          "output_type": "execute_result",
          "data": {
            "text/plain": [
              "   Sl. No                      State  \\\n",
              "0       1                  Meghalaya   \n",
              "1       2                   Nagaland   \n",
              "2       3                    Manipur   \n",
              "3       4                    Tripura   \n",
              "4       5  Andaman & Nicobar islands   \n",
              "\n",
              "   Two Wheelers (Category L1 & L2 as per Central Motor Vehicles Rules  \\\n",
              "0                                                  0                    \n",
              "1                                                  0                    \n",
              "2                                                 16                    \n",
              "3                                                 28                    \n",
              "4                                                  0                    \n",
              "\n",
              "   Two Wheelers (Category L2 (CMVR))  \\\n",
              "0                                  0   \n",
              "1                                 20   \n",
              "2                                  8   \n",
              "3                                  9   \n",
              "4                                  0   \n",
              "\n",
              "   Two Wheelers (Max power not exceeding 250 Watts)  \\\n",
              "0                                                 0   \n",
              "1                                                 3   \n",
              "2                                                11   \n",
              "3                                                36   \n",
              "4                                                 0   \n",
              "\n",
              "   Three Wheelers (Category L5 slow speed as per CMVR)  \\\n",
              "0                                                  0     \n",
              "1                                                  0     \n",
              "2                                                  0     \n",
              "3                                                  0     \n",
              "4                                                  0     \n",
              "\n",
              "   Three Wheelers (Category L5 as per CMVR)  \\\n",
              "0                                         0   \n",
              "1                                         0   \n",
              "2                                         5   \n",
              "3                                         0   \n",
              "4                                         0   \n",
              "\n",
              "   Passenger Cars (Category M1 as per CMVR)  Buses  Total in state  \n",
              "0                                         6      0               6  \n",
              "1                                         1      0              24  \n",
              "2                                        12      0              52  \n",
              "3                                         8      0              81  \n",
              "4                                        82      0              82  "
            ],
            "text/html": [
              "\n",
              "  <div id=\"df-57d0fffe-8543-4d51-a237-d1a265433a78\">\n",
              "    <div class=\"colab-df-container\">\n",
              "      <div>\n",
              "<style scoped>\n",
              "    .dataframe tbody tr th:only-of-type {\n",
              "        vertical-align: middle;\n",
              "    }\n",
              "\n",
              "    .dataframe tbody tr th {\n",
              "        vertical-align: top;\n",
              "    }\n",
              "\n",
              "    .dataframe thead th {\n",
              "        text-align: right;\n",
              "    }\n",
              "</style>\n",
              "<table border=\"1\" class=\"dataframe\">\n",
              "  <thead>\n",
              "    <tr style=\"text-align: right;\">\n",
              "      <th></th>\n",
              "      <th>Sl. No</th>\n",
              "      <th>State</th>\n",
              "      <th>Two Wheelers (Category L1 &amp; L2 as per Central Motor Vehicles Rules</th>\n",
              "      <th>Two Wheelers (Category L2 (CMVR))</th>\n",
              "      <th>Two Wheelers (Max power not exceeding 250 Watts)</th>\n",
              "      <th>Three Wheelers (Category L5 slow speed as per CMVR)</th>\n",
              "      <th>Three Wheelers (Category L5 as per CMVR)</th>\n",
              "      <th>Passenger Cars (Category M1 as per CMVR)</th>\n",
              "      <th>Buses</th>\n",
              "      <th>Total in state</th>\n",
              "    </tr>\n",
              "  </thead>\n",
              "  <tbody>\n",
              "    <tr>\n",
              "      <th>0</th>\n",
              "      <td>1</td>\n",
              "      <td>Meghalaya</td>\n",
              "      <td>0</td>\n",
              "      <td>0</td>\n",
              "      <td>0</td>\n",
              "      <td>0</td>\n",
              "      <td>0</td>\n",
              "      <td>6</td>\n",
              "      <td>0</td>\n",
              "      <td>6</td>\n",
              "    </tr>\n",
              "    <tr>\n",
              "      <th>1</th>\n",
              "      <td>2</td>\n",
              "      <td>Nagaland</td>\n",
              "      <td>0</td>\n",
              "      <td>20</td>\n",
              "      <td>3</td>\n",
              "      <td>0</td>\n",
              "      <td>0</td>\n",
              "      <td>1</td>\n",
              "      <td>0</td>\n",
              "      <td>24</td>\n",
              "    </tr>\n",
              "    <tr>\n",
              "      <th>2</th>\n",
              "      <td>3</td>\n",
              "      <td>Manipur</td>\n",
              "      <td>16</td>\n",
              "      <td>8</td>\n",
              "      <td>11</td>\n",
              "      <td>0</td>\n",
              "      <td>5</td>\n",
              "      <td>12</td>\n",
              "      <td>0</td>\n",
              "      <td>52</td>\n",
              "    </tr>\n",
              "    <tr>\n",
              "      <th>3</th>\n",
              "      <td>4</td>\n",
              "      <td>Tripura</td>\n",
              "      <td>28</td>\n",
              "      <td>9</td>\n",
              "      <td>36</td>\n",
              "      <td>0</td>\n",
              "      <td>0</td>\n",
              "      <td>8</td>\n",
              "      <td>0</td>\n",
              "      <td>81</td>\n",
              "    </tr>\n",
              "    <tr>\n",
              "      <th>4</th>\n",
              "      <td>5</td>\n",
              "      <td>Andaman &amp; Nicobar islands</td>\n",
              "      <td>0</td>\n",
              "      <td>0</td>\n",
              "      <td>0</td>\n",
              "      <td>0</td>\n",
              "      <td>0</td>\n",
              "      <td>82</td>\n",
              "      <td>0</td>\n",
              "      <td>82</td>\n",
              "    </tr>\n",
              "  </tbody>\n",
              "</table>\n",
              "</div>\n",
              "      <button class=\"colab-df-convert\" onclick=\"convertToInteractive('df-57d0fffe-8543-4d51-a237-d1a265433a78')\"\n",
              "              title=\"Convert this dataframe to an interactive table.\"\n",
              "              style=\"display:none;\">\n",
              "        \n",
              "  <svg xmlns=\"http://www.w3.org/2000/svg\" height=\"24px\"viewBox=\"0 0 24 24\"\n",
              "       width=\"24px\">\n",
              "    <path d=\"M0 0h24v24H0V0z\" fill=\"none\"/>\n",
              "    <path d=\"M18.56 5.44l.94 2.06.94-2.06 2.06-.94-2.06-.94-.94-2.06-.94 2.06-2.06.94zm-11 1L8.5 8.5l.94-2.06 2.06-.94-2.06-.94L8.5 2.5l-.94 2.06-2.06.94zm10 10l.94 2.06.94-2.06 2.06-.94-2.06-.94-.94-2.06-.94 2.06-2.06.94z\"/><path d=\"M17.41 7.96l-1.37-1.37c-.4-.4-.92-.59-1.43-.59-.52 0-1.04.2-1.43.59L10.3 9.45l-7.72 7.72c-.78.78-.78 2.05 0 2.83L4 21.41c.39.39.9.59 1.41.59.51 0 1.02-.2 1.41-.59l7.78-7.78 2.81-2.81c.8-.78.8-2.07 0-2.86zM5.41 20L4 18.59l7.72-7.72 1.47 1.35L5.41 20z\"/>\n",
              "  </svg>\n",
              "      </button>\n",
              "      \n",
              "  <style>\n",
              "    .colab-df-container {\n",
              "      display:flex;\n",
              "      flex-wrap:wrap;\n",
              "      gap: 12px;\n",
              "    }\n",
              "\n",
              "    .colab-df-convert {\n",
              "      background-color: #E8F0FE;\n",
              "      border: none;\n",
              "      border-radius: 50%;\n",
              "      cursor: pointer;\n",
              "      display: none;\n",
              "      fill: #1967D2;\n",
              "      height: 32px;\n",
              "      padding: 0 0 0 0;\n",
              "      width: 32px;\n",
              "    }\n",
              "\n",
              "    .colab-df-convert:hover {\n",
              "      background-color: #E2EBFA;\n",
              "      box-shadow: 0px 1px 2px rgba(60, 64, 67, 0.3), 0px 1px 3px 1px rgba(60, 64, 67, 0.15);\n",
              "      fill: #174EA6;\n",
              "    }\n",
              "\n",
              "    [theme=dark] .colab-df-convert {\n",
              "      background-color: #3B4455;\n",
              "      fill: #D2E3FC;\n",
              "    }\n",
              "\n",
              "    [theme=dark] .colab-df-convert:hover {\n",
              "      background-color: #434B5C;\n",
              "      box-shadow: 0px 1px 3px 1px rgba(0, 0, 0, 0.15);\n",
              "      filter: drop-shadow(0px 1px 2px rgba(0, 0, 0, 0.3));\n",
              "      fill: #FFFFFF;\n",
              "    }\n",
              "  </style>\n",
              "\n",
              "      <script>\n",
              "        const buttonEl =\n",
              "          document.querySelector('#df-57d0fffe-8543-4d51-a237-d1a265433a78 button.colab-df-convert');\n",
              "        buttonEl.style.display =\n",
              "          google.colab.kernel.accessAllowed ? 'block' : 'none';\n",
              "\n",
              "        async function convertToInteractive(key) {\n",
              "          const element = document.querySelector('#df-57d0fffe-8543-4d51-a237-d1a265433a78');\n",
              "          const dataTable =\n",
              "            await google.colab.kernel.invokeFunction('convertToInteractive',\n",
              "                                                     [key], {});\n",
              "          if (!dataTable) return;\n",
              "\n",
              "          const docLinkHtml = 'Like what you see? Visit the ' +\n",
              "            '<a target=\"_blank\" href=https://colab.research.google.com/notebooks/data_table.ipynb>data table notebook</a>'\n",
              "            + ' to learn more about interactive tables.';\n",
              "          element.innerHTML = '';\n",
              "          dataTable['output_type'] = 'display_data';\n",
              "          await google.colab.output.renderOutput(dataTable, element);\n",
              "          const docLink = document.createElement('div');\n",
              "          docLink.innerHTML = docLinkHtml;\n",
              "          element.appendChild(docLink);\n",
              "        }\n",
              "      </script>\n",
              "    </div>\n",
              "  </div>\n",
              "  "
            ]
          },
          "metadata": {},
          "execution_count": 30
        }
      ]
    },
    {
      "cell_type": "code",
      "source": [
        "df.info()"
      ],
      "metadata": {
        "colab": {
          "base_uri": "https://localhost:8080/"
        },
        "id": "zB9_249ubIcF",
        "outputId": "5e30ea87-3214-48fc-ba0e-b39905c80bc5"
      },
      "execution_count": null,
      "outputs": [
        {
          "output_type": "stream",
          "name": "stdout",
          "text": [
            "<class 'pandas.core.frame.DataFrame'>\n",
            "RangeIndex: 30 entries, 0 to 29\n",
            "Data columns (total 10 columns):\n",
            " #   Column                                                              Non-Null Count  Dtype \n",
            "---  ------                                                              --------------  ----- \n",
            " 0   Sl. No                                                              30 non-null     int64 \n",
            " 1   State                                                               30 non-null     object\n",
            " 2   Two Wheelers (Category L1 & L2 as per Central Motor Vehicles Rules  30 non-null     int64 \n",
            " 3   Two Wheelers (Category L2 (CMVR))                                   30 non-null     int64 \n",
            " 4   Two Wheelers (Max power not exceeding 250 Watts)                    30 non-null     int64 \n",
            " 5   Three Wheelers (Category L5 slow speed as per CMVR)                 30 non-null     int64 \n",
            " 6   Three Wheelers (Category L5 as per CMVR)                            30 non-null     int64 \n",
            " 7   Passenger Cars (Category M1 as per CMVR)                            30 non-null     int64 \n",
            " 8   Buses                                                               30 non-null     int64 \n",
            " 9   Total in state                                                      30 non-null     int64 \n",
            "dtypes: int64(9), object(1)\n",
            "memory usage: 2.5+ KB\n"
          ]
        }
      ]
    },
    {
      "cell_type": "code",
      "source": [
        "df.shape"
      ],
      "metadata": {
        "colab": {
          "base_uri": "https://localhost:8080/"
        },
        "id": "2ifulIyNbSAq",
        "outputId": "26cd3a07-88c2-4774-9389-cadd4612f226"
      },
      "execution_count": null,
      "outputs": [
        {
          "output_type": "execute_result",
          "data": {
            "text/plain": [
              "(30, 10)"
            ]
          },
          "metadata": {},
          "execution_count": 32
        }
      ]
    },
    {
      "cell_type": "code",
      "source": [
        "df.columns"
      ],
      "metadata": {
        "colab": {
          "base_uri": "https://localhost:8080/"
        },
        "id": "3ZSbCM1cbZFV",
        "outputId": "8b98b1da-49bc-4fcb-8587-c4754deaefef"
      },
      "execution_count": null,
      "outputs": [
        {
          "output_type": "execute_result",
          "data": {
            "text/plain": [
              "Index(['Sl. No', 'State',\n",
              "       'Two Wheelers (Category L1 & L2 as per Central Motor Vehicles Rules',\n",
              "       'Two Wheelers (Category L2 (CMVR))',\n",
              "       'Two Wheelers (Max power not exceeding 250 Watts)',\n",
              "       'Three Wheelers (Category L5 slow speed as per CMVR)',\n",
              "       'Three Wheelers (Category L5 as per CMVR)',\n",
              "       'Passenger Cars (Category M1 as per CMVR)', 'Buses', 'Total in state'],\n",
              "      dtype='object')"
            ]
          },
          "metadata": {},
          "execution_count": 33
        }
      ]
    },
    {
      "cell_type": "code",
      "source": [
        "df = df.drop(['Three Wheelers (Category L5 slow speed as per CMVR)', 'Two Wheelers (Max power not exceeding 250 Watts)', 'Two Wheelers (Category L1 & L2 as per Central Motor Vehicles Rules',], axis=1)\n",
        "df.head()"
      ],
      "metadata": {
        "colab": {
          "base_uri": "https://localhost:8080/",
          "height": 285
        },
        "id": "J4lAw924bcbP",
        "outputId": "922adc99-1eee-4d9a-aaf3-997ccd8a8e49"
      },
      "execution_count": null,
      "outputs": [
        {
          "output_type": "execute_result",
          "data": {
            "text/plain": [
              "   Sl. No                      State  Two Wheelers (Category L2 (CMVR))  \\\n",
              "0       1                  Meghalaya                                  0   \n",
              "1       2                   Nagaland                                 20   \n",
              "2       3                    Manipur                                  8   \n",
              "3       4                    Tripura                                  9   \n",
              "4       5  Andaman & Nicobar islands                                  0   \n",
              "\n",
              "   Three Wheelers (Category L5 as per CMVR)  \\\n",
              "0                                         0   \n",
              "1                                         0   \n",
              "2                                         5   \n",
              "3                                         0   \n",
              "4                                         0   \n",
              "\n",
              "   Passenger Cars (Category M1 as per CMVR)  Buses  Total in state  \n",
              "0                                         6      0               6  \n",
              "1                                         1      0              24  \n",
              "2                                        12      0              52  \n",
              "3                                         8      0              81  \n",
              "4                                        82      0              82  "
            ],
            "text/html": [
              "\n",
              "  <div id=\"df-2e29c3df-4223-4ff1-b70f-4ef81f5862b0\">\n",
              "    <div class=\"colab-df-container\">\n",
              "      <div>\n",
              "<style scoped>\n",
              "    .dataframe tbody tr th:only-of-type {\n",
              "        vertical-align: middle;\n",
              "    }\n",
              "\n",
              "    .dataframe tbody tr th {\n",
              "        vertical-align: top;\n",
              "    }\n",
              "\n",
              "    .dataframe thead th {\n",
              "        text-align: right;\n",
              "    }\n",
              "</style>\n",
              "<table border=\"1\" class=\"dataframe\">\n",
              "  <thead>\n",
              "    <tr style=\"text-align: right;\">\n",
              "      <th></th>\n",
              "      <th>Sl. No</th>\n",
              "      <th>State</th>\n",
              "      <th>Two Wheelers (Category L2 (CMVR))</th>\n",
              "      <th>Three Wheelers (Category L5 as per CMVR)</th>\n",
              "      <th>Passenger Cars (Category M1 as per CMVR)</th>\n",
              "      <th>Buses</th>\n",
              "      <th>Total in state</th>\n",
              "    </tr>\n",
              "  </thead>\n",
              "  <tbody>\n",
              "    <tr>\n",
              "      <th>0</th>\n",
              "      <td>1</td>\n",
              "      <td>Meghalaya</td>\n",
              "      <td>0</td>\n",
              "      <td>0</td>\n",
              "      <td>6</td>\n",
              "      <td>0</td>\n",
              "      <td>6</td>\n",
              "    </tr>\n",
              "    <tr>\n",
              "      <th>1</th>\n",
              "      <td>2</td>\n",
              "      <td>Nagaland</td>\n",
              "      <td>20</td>\n",
              "      <td>0</td>\n",
              "      <td>1</td>\n",
              "      <td>0</td>\n",
              "      <td>24</td>\n",
              "    </tr>\n",
              "    <tr>\n",
              "      <th>2</th>\n",
              "      <td>3</td>\n",
              "      <td>Manipur</td>\n",
              "      <td>8</td>\n",
              "      <td>5</td>\n",
              "      <td>12</td>\n",
              "      <td>0</td>\n",
              "      <td>52</td>\n",
              "    </tr>\n",
              "    <tr>\n",
              "      <th>3</th>\n",
              "      <td>4</td>\n",
              "      <td>Tripura</td>\n",
              "      <td>9</td>\n",
              "      <td>0</td>\n",
              "      <td>8</td>\n",
              "      <td>0</td>\n",
              "      <td>81</td>\n",
              "    </tr>\n",
              "    <tr>\n",
              "      <th>4</th>\n",
              "      <td>5</td>\n",
              "      <td>Andaman &amp; Nicobar islands</td>\n",
              "      <td>0</td>\n",
              "      <td>0</td>\n",
              "      <td>82</td>\n",
              "      <td>0</td>\n",
              "      <td>82</td>\n",
              "    </tr>\n",
              "  </tbody>\n",
              "</table>\n",
              "</div>\n",
              "      <button class=\"colab-df-convert\" onclick=\"convertToInteractive('df-2e29c3df-4223-4ff1-b70f-4ef81f5862b0')\"\n",
              "              title=\"Convert this dataframe to an interactive table.\"\n",
              "              style=\"display:none;\">\n",
              "        \n",
              "  <svg xmlns=\"http://www.w3.org/2000/svg\" height=\"24px\"viewBox=\"0 0 24 24\"\n",
              "       width=\"24px\">\n",
              "    <path d=\"M0 0h24v24H0V0z\" fill=\"none\"/>\n",
              "    <path d=\"M18.56 5.44l.94 2.06.94-2.06 2.06-.94-2.06-.94-.94-2.06-.94 2.06-2.06.94zm-11 1L8.5 8.5l.94-2.06 2.06-.94-2.06-.94L8.5 2.5l-.94 2.06-2.06.94zm10 10l.94 2.06.94-2.06 2.06-.94-2.06-.94-.94-2.06-.94 2.06-2.06.94z\"/><path d=\"M17.41 7.96l-1.37-1.37c-.4-.4-.92-.59-1.43-.59-.52 0-1.04.2-1.43.59L10.3 9.45l-7.72 7.72c-.78.78-.78 2.05 0 2.83L4 21.41c.39.39.9.59 1.41.59.51 0 1.02-.2 1.41-.59l7.78-7.78 2.81-2.81c.8-.78.8-2.07 0-2.86zM5.41 20L4 18.59l7.72-7.72 1.47 1.35L5.41 20z\"/>\n",
              "  </svg>\n",
              "      </button>\n",
              "      \n",
              "  <style>\n",
              "    .colab-df-container {\n",
              "      display:flex;\n",
              "      flex-wrap:wrap;\n",
              "      gap: 12px;\n",
              "    }\n",
              "\n",
              "    .colab-df-convert {\n",
              "      background-color: #E8F0FE;\n",
              "      border: none;\n",
              "      border-radius: 50%;\n",
              "      cursor: pointer;\n",
              "      display: none;\n",
              "      fill: #1967D2;\n",
              "      height: 32px;\n",
              "      padding: 0 0 0 0;\n",
              "      width: 32px;\n",
              "    }\n",
              "\n",
              "    .colab-df-convert:hover {\n",
              "      background-color: #E2EBFA;\n",
              "      box-shadow: 0px 1px 2px rgba(60, 64, 67, 0.3), 0px 1px 3px 1px rgba(60, 64, 67, 0.15);\n",
              "      fill: #174EA6;\n",
              "    }\n",
              "\n",
              "    [theme=dark] .colab-df-convert {\n",
              "      background-color: #3B4455;\n",
              "      fill: #D2E3FC;\n",
              "    }\n",
              "\n",
              "    [theme=dark] .colab-df-convert:hover {\n",
              "      background-color: #434B5C;\n",
              "      box-shadow: 0px 1px 3px 1px rgba(0, 0, 0, 0.15);\n",
              "      filter: drop-shadow(0px 1px 2px rgba(0, 0, 0, 0.3));\n",
              "      fill: #FFFFFF;\n",
              "    }\n",
              "  </style>\n",
              "\n",
              "      <script>\n",
              "        const buttonEl =\n",
              "          document.querySelector('#df-2e29c3df-4223-4ff1-b70f-4ef81f5862b0 button.colab-df-convert');\n",
              "        buttonEl.style.display =\n",
              "          google.colab.kernel.accessAllowed ? 'block' : 'none';\n",
              "\n",
              "        async function convertToInteractive(key) {\n",
              "          const element = document.querySelector('#df-2e29c3df-4223-4ff1-b70f-4ef81f5862b0');\n",
              "          const dataTable =\n",
              "            await google.colab.kernel.invokeFunction('convertToInteractive',\n",
              "                                                     [key], {});\n",
              "          if (!dataTable) return;\n",
              "\n",
              "          const docLinkHtml = 'Like what you see? Visit the ' +\n",
              "            '<a target=\"_blank\" href=https://colab.research.google.com/notebooks/data_table.ipynb>data table notebook</a>'\n",
              "            + ' to learn more about interactive tables.';\n",
              "          element.innerHTML = '';\n",
              "          dataTable['output_type'] = 'display_data';\n",
              "          await google.colab.output.renderOutput(dataTable, element);\n",
              "          const docLink = document.createElement('div');\n",
              "          docLink.innerHTML = docLinkHtml;\n",
              "          element.appendChild(docLink);\n",
              "        }\n",
              "      </script>\n",
              "    </div>\n",
              "  </div>\n",
              "  "
            ]
          },
          "metadata": {},
          "execution_count": 34
        }
      ]
    },
    {
      "cell_type": "code",
      "source": [
        "df.info()"
      ],
      "metadata": {
        "colab": {
          "base_uri": "https://localhost:8080/"
        },
        "id": "jJ7rRQrWd_QU",
        "outputId": "52bcea12-6fdc-4b76-f753-c5da61d1d4b4"
      },
      "execution_count": null,
      "outputs": [
        {
          "output_type": "stream",
          "name": "stdout",
          "text": [
            "<class 'pandas.core.frame.DataFrame'>\n",
            "RangeIndex: 30 entries, 0 to 29\n",
            "Data columns (total 7 columns):\n",
            " #   Column                                    Non-Null Count  Dtype \n",
            "---  ------                                    --------------  ----- \n",
            " 0   Sl. No                                    30 non-null     int64 \n",
            " 1   State                                     30 non-null     object\n",
            " 2   Two Wheelers (Category L2 (CMVR))         30 non-null     int64 \n",
            " 3   Three Wheelers (Category L5 as per CMVR)  30 non-null     int64 \n",
            " 4   Passenger Cars (Category M1 as per CMVR)  30 non-null     int64 \n",
            " 5   Buses                                     30 non-null     int64 \n",
            " 6   Total in state                            30 non-null     int64 \n",
            "dtypes: int64(6), object(1)\n",
            "memory usage: 1.8+ KB\n"
          ]
        }
      ]
    },
    {
      "cell_type": "code",
      "source": [
        "df.drop_duplicates(inplace = True)\n",
        "df.shape"
      ],
      "metadata": {
        "colab": {
          "base_uri": "https://localhost:8080/"
        },
        "id": "cheAN6IOeGQX",
        "outputId": "ca8e599e-009f-4abe-e008-115f2ae6c2a4"
      },
      "execution_count": null,
      "outputs": [
        {
          "output_type": "execute_result",
          "data": {
            "text/plain": [
              "(30, 7)"
            ]
          },
          "metadata": {},
          "execution_count": 36
        }
      ]
    },
    {
      "cell_type": "code",
      "source": [
        "df['Passenger Cars (Category M1 as per CMVR)'].fillna(df['Passenger Cars (Category M1 as per CMVR)'].mean(), inplace = True)\n",
        "df['Passenger Cars (Category M1 as per CMVR)'].isnull().sum()"
      ],
      "metadata": {
        "colab": {
          "base_uri": "https://localhost:8080/"
        },
        "id": "3mAmLiAmgASP",
        "outputId": "14388f63-a22a-4418-b084-4c2d71fd7225"
      },
      "execution_count": null,
      "outputs": [
        {
          "output_type": "execute_result",
          "data": {
            "text/plain": [
              "0"
            ]
          },
          "metadata": {},
          "execution_count": 37
        }
      ]
    },
    {
      "cell_type": "code",
      "source": [
        "df.info()"
      ],
      "metadata": {
        "colab": {
          "base_uri": "https://localhost:8080/"
        },
        "id": "OekAFdTvgw-c",
        "outputId": "5d333e24-c14d-45a1-e0e0-ed62fd034fd1"
      },
      "execution_count": null,
      "outputs": [
        {
          "output_type": "stream",
          "name": "stdout",
          "text": [
            "<class 'pandas.core.frame.DataFrame'>\n",
            "Int64Index: 30 entries, 0 to 29\n",
            "Data columns (total 7 columns):\n",
            " #   Column                                    Non-Null Count  Dtype \n",
            "---  ------                                    --------------  ----- \n",
            " 0   Sl. No                                    30 non-null     int64 \n",
            " 1   State                                     30 non-null     object\n",
            " 2   Two Wheelers (Category L2 (CMVR))         30 non-null     int64 \n",
            " 3   Three Wheelers (Category L5 as per CMVR)  30 non-null     int64 \n",
            " 4   Passenger Cars (Category M1 as per CMVR)  30 non-null     int64 \n",
            " 5   Buses                                     30 non-null     int64 \n",
            " 6   Total in state                            30 non-null     int64 \n",
            "dtypes: int64(6), object(1)\n",
            "memory usage: 1.9+ KB\n"
          ]
        }
      ]
    },
    {
      "cell_type": "code",
      "source": [
        "df['Buses'].fillna(df['Buses'].mean(), inplace = True)\n",
        "df['Buses'].isnull().sum()"
      ],
      "metadata": {
        "colab": {
          "base_uri": "https://localhost:8080/"
        },
        "id": "9GDxBC5VhZ5U",
        "outputId": "276769e4-b6ba-448a-d903-85289e7b4104"
      },
      "execution_count": null,
      "outputs": [
        {
          "output_type": "execute_result",
          "data": {
            "text/plain": [
              "0"
            ]
          },
          "metadata": {},
          "execution_count": 39
        }
      ]
    },
    {
      "cell_type": "code",
      "source": [
        "df['Three Wheelers (Category L5 as per CMVR)'].fillna(df['Three Wheelers (Category L5 as per CMVR)'].mean(), inplace = True)\n",
        "df['Three Wheelers (Category L5 as per CMVR)'].isnull().sum()"
      ],
      "metadata": {
        "colab": {
          "base_uri": "https://localhost:8080/"
        },
        "id": "xwlPaqnyhgAN",
        "outputId": "7cd3546a-1c4e-4c6a-c581-b2219e151ce3"
      },
      "execution_count": null,
      "outputs": [
        {
          "output_type": "execute_result",
          "data": {
            "text/plain": [
              "0"
            ]
          },
          "metadata": {},
          "execution_count": 40
        }
      ]
    },
    {
      "cell_type": "code",
      "source": [
        "df['Two Wheelers (Category L2 (CMVR))'].fillna(df['Two Wheelers (Category L2 (CMVR))'].mean(), inplace = True)\n",
        "df['Two Wheelers (Category L2 (CMVR))'].isnull().sum()"
      ],
      "metadata": {
        "colab": {
          "base_uri": "https://localhost:8080/"
        },
        "id": "hHeAhF_Qhn6Q",
        "outputId": "8a61e1bd-40f8-4bee-db25-15f193537cc8"
      },
      "execution_count": null,
      "outputs": [
        {
          "output_type": "execute_result",
          "data": {
            "text/plain": [
              "0"
            ]
          },
          "metadata": {},
          "execution_count": 41
        }
      ]
    },
    {
      "cell_type": "code",
      "source": [
        "df['Total in state'].fillna(df['Total in state'].mean(), inplace = True)\n",
        "df['Total in state'].isnull().sum()"
      ],
      "metadata": {
        "colab": {
          "base_uri": "https://localhost:8080/"
        },
        "id": "zMgKT-O7huBv",
        "outputId": "8f3a0acb-7ff6-4a51-c458-a993dd3dadc8"
      },
      "execution_count": null,
      "outputs": [
        {
          "output_type": "execute_result",
          "data": {
            "text/plain": [
              "0"
            ]
          },
          "metadata": {},
          "execution_count": 42
        }
      ]
    },
    {
      "cell_type": "code",
      "source": [
        "df.info()"
      ],
      "metadata": {
        "colab": {
          "base_uri": "https://localhost:8080/"
        },
        "id": "JsMOHbVdiQ5x",
        "outputId": "5c14459b-a287-431f-a65f-826a59d597b5"
      },
      "execution_count": null,
      "outputs": [
        {
          "output_type": "stream",
          "name": "stdout",
          "text": [
            "<class 'pandas.core.frame.DataFrame'>\n",
            "Int64Index: 30 entries, 0 to 29\n",
            "Data columns (total 7 columns):\n",
            " #   Column                                    Non-Null Count  Dtype \n",
            "---  ------                                    --------------  ----- \n",
            " 0   Sl. No                                    30 non-null     int64 \n",
            " 1   State                                     30 non-null     object\n",
            " 2   Two Wheelers (Category L2 (CMVR))         30 non-null     int64 \n",
            " 3   Three Wheelers (Category L5 as per CMVR)  30 non-null     int64 \n",
            " 4   Passenger Cars (Category M1 as per CMVR)  30 non-null     int64 \n",
            " 5   Buses                                     30 non-null     int64 \n",
            " 6   Total in state                            30 non-null     int64 \n",
            "dtypes: int64(6), object(1)\n",
            "memory usage: 1.9+ KB\n"
          ]
        }
      ]
    },
    {
      "cell_type": "code",
      "source": [
        "df['Passenger Cars (Category M1 as per CMVR)'].unique()"
      ],
      "metadata": {
        "colab": {
          "base_uri": "https://localhost:8080/"
        },
        "id": "jv2aFPYii1Be",
        "outputId": "69ec8807-7962-44ef-c193-c7dca7525263"
      },
      "execution_count": null,
      "outputs": [
        {
          "output_type": "execute_result",
          "data": {
            "text/plain": [
              "array([    6,     1,    12,     8,    82,    98,   208,   513,   803,\n",
              "         655,   151,   974,   271,   594,   265,   997,  2562,  3567,\n",
              "        5530,  3680,  5729,  8242,  1840,  4116,  7132, 12695,  4878,\n",
              "        5445, 15388, 19129])"
            ]
          },
          "metadata": {},
          "execution_count": 44
        }
      ]
    },
    {
      "cell_type": "markdown",
      "source": [
        "Visualisation Analysis"
      ],
      "metadata": {
        "id": "GltSpo2kjZvb"
      }
    },
    {
      "cell_type": "code",
      "source": [
        "df['Passenger Cars (Category M1 as per CMVR)'].value_counts()"
      ],
      "metadata": {
        "colab": {
          "base_uri": "https://localhost:8080/"
        },
        "id": "gLeWRMLxjdPs",
        "outputId": "41d10ff0-b3b8-4522-a1d5-3defd9b70b73"
      },
      "execution_count": null,
      "outputs": [
        {
          "output_type": "execute_result",
          "data": {
            "text/plain": [
              "6        1\n",
              "1        1\n",
              "15388    1\n",
              "5445     1\n",
              "4878     1\n",
              "12695    1\n",
              "7132     1\n",
              "4116     1\n",
              "1840     1\n",
              "8242     1\n",
              "5729     1\n",
              "3680     1\n",
              "5530     1\n",
              "3567     1\n",
              "2562     1\n",
              "997      1\n",
              "265      1\n",
              "594      1\n",
              "271      1\n",
              "974      1\n",
              "151      1\n",
              "655      1\n",
              "803      1\n",
              "513      1\n",
              "208      1\n",
              "98       1\n",
              "82       1\n",
              "8        1\n",
              "12       1\n",
              "19129    1\n",
              "Name: Passenger Cars (Category M1 as per CMVR), dtype: int64"
            ]
          },
          "metadata": {},
          "execution_count": 45
        }
      ]
    },
    {
      "cell_type": "code",
      "source": [
        "sns.countplot(x='Passenger Cars (Category M1 as per CMVR)',data=df) \n",
        "plt.xticks(rotation=90)"
      ],
      "metadata": {
        "colab": {
          "base_uri": "https://localhost:8080/",
          "height": 1000
        },
        "id": "Y9pDbnRPl2Rr",
        "outputId": "56937d07-9bf9-45c6-adb1-cb1934228a8f"
      },
      "execution_count": null,
      "outputs": [
        {
          "output_type": "execute_result",
          "data": {
            "text/plain": [
              "(array([ 0,  1,  2,  3,  4,  5,  6,  7,  8,  9, 10, 11, 12, 13, 14, 15, 16,\n",
              "        17, 18, 19, 20, 21, 22, 23, 24, 25, 26, 27, 28, 29]),\n",
              " [Text(0, 0, '1'),\n",
              "  Text(1, 0, '6'),\n",
              "  Text(2, 0, '8'),\n",
              "  Text(3, 0, '12'),\n",
              "  Text(4, 0, '82'),\n",
              "  Text(5, 0, '98'),\n",
              "  Text(6, 0, '151'),\n",
              "  Text(7, 0, '208'),\n",
              "  Text(8, 0, '265'),\n",
              "  Text(9, 0, '271'),\n",
              "  Text(10, 0, '513'),\n",
              "  Text(11, 0, '594'),\n",
              "  Text(12, 0, '655'),\n",
              "  Text(13, 0, '803'),\n",
              "  Text(14, 0, '974'),\n",
              "  Text(15, 0, '997'),\n",
              "  Text(16, 0, '1840'),\n",
              "  Text(17, 0, '2562'),\n",
              "  Text(18, 0, '3567'),\n",
              "  Text(19, 0, '3680'),\n",
              "  Text(20, 0, '4116'),\n",
              "  Text(21, 0, '4878'),\n",
              "  Text(22, 0, '5445'),\n",
              "  Text(23, 0, '5530'),\n",
              "  Text(24, 0, '5729'),\n",
              "  Text(25, 0, '7132'),\n",
              "  Text(26, 0, '8242'),\n",
              "  Text(27, 0, '12695'),\n",
              "  Text(28, 0, '15388'),\n",
              "  Text(29, 0, '19129')])"
            ]
          },
          "metadata": {},
          "execution_count": 48
        },
        {
          "output_type": "display_data",
          "data": {
            "text/plain": [
              "<Figure size 640x480 with 1 Axes>"
            ],
            "image/png": "[encoded data removed]"
          },
          "metadata": {}
        }
      ]
    },
    {
      "cell_type": "code",
      "source": [
        "df.head()"
      ],
      "metadata": {
        "colab": {
          "base_uri": "https://localhost:8080/",
          "height": 285
        },
        "id": "weNZYE9noz-T",
        "outputId": "6d7f00be-87db-44ac-effa-6980c6996993"
      },
      "execution_count": null,
      "outputs": [
        {
          "output_type": "execute_result",
          "data": {
            "text/plain": [
              "   Sl. No                      State  Two Wheelers (Category L2 (CMVR))  \\\n",
              "0       1                  Meghalaya                                  0   \n",
              "1       2                   Nagaland                                 20   \n",
              "2       3                    Manipur                                  8   \n",
              "3       4                    Tripura                                  9   \n",
              "4       5  Andaman & Nicobar islands                                  0   \n",
              "\n",
              "   Three Wheelers (Category L5 as per CMVR)  \\\n",
              "0                                         0   \n",
              "1                                         0   \n",
              "2                                         5   \n",
              "3                                         0   \n",
              "4                                         0   \n",
              "\n",
              "   Passenger Cars (Category M1 as per CMVR)  Buses  Total in state  \n",
              "0                                         6      0               6  \n",
              "1                                         1      0              24  \n",
              "2                                        12      0              52  \n",
              "3                                         8      0              81  \n",
              "4                                        82      0              82  "
            ],
            "text/html": [
              "\n",
              "  <div id=\"df-4c80e22f-78a5-4ec2-9e07-265b1cb0e133\">\n",
              "    <div class=\"colab-df-container\">\n",
              "      <div>\n",
              "<style scoped>\n",
              "    .dataframe tbody tr th:only-of-type {\n",
              "        vertical-align: middle;\n",
              "    }\n",
              "\n",
              "    .dataframe tbody tr th {\n",
              "        vertical-align: top;\n",
              "    }\n",
              "\n",
              "    .dataframe thead th {\n",
              "        text-align: right;\n",
              "    }\n",
              "</style>\n",
              "<table border=\"1\" class=\"dataframe\">\n",
              "  <thead>\n",
              "    <tr style=\"text-align: right;\">\n",
              "      <th></th>\n",
              "      <th>Sl. No</th>\n",
              "      <th>State</th>\n",
              "      <th>Two Wheelers (Category L2 (CMVR))</th>\n",
              "      <th>Three Wheelers (Category L5 as per CMVR)</th>\n",
              "      <th>Passenger Cars (Category M1 as per CMVR)</th>\n",
              "      <th>Buses</th>\n",
              "      <th>Total in state</th>\n",
              "    </tr>\n",
              "  </thead>\n",
              "  <tbody>\n",
              "    <tr>\n",
              "      <th>0</th>\n",
              "      <td>1</td>\n",
              "      <td>Meghalaya</td>\n",
              "      <td>0</td>\n",
              "      <td>0</td>\n",
              "      <td>6</td>\n",
              "      <td>0</td>\n",
              "      <td>6</td>\n",
              "    </tr>\n",
              "    <tr>\n",
              "      <th>1</th>\n",
              "      <td>2</td>\n",
              "      <td>Nagaland</td>\n",
              "      <td>20</td>\n",
              "      <td>0</td>\n",
              "      <td>1</td>\n",
              "      <td>0</td>\n",
              "      <td>24</td>\n",
              "    </tr>\n",
              "    <tr>\n",
              "      <th>2</th>\n",
              "      <td>3</td>\n",
              "      <td>Manipur</td>\n",
              "      <td>8</td>\n",
              "      <td>5</td>\n",
              "      <td>12</td>\n",
              "      <td>0</td>\n",
              "      <td>52</td>\n",
              "    </tr>\n",
              "    <tr>\n",
              "      <th>3</th>\n",
              "      <td>4</td>\n",
              "      <td>Tripura</td>\n",
              "      <td>9</td>\n",
              "      <td>0</td>\n",
              "      <td>8</td>\n",
              "      <td>0</td>\n",
              "      <td>81</td>\n",
              "    </tr>\n",
              "    <tr>\n",
              "      <th>4</th>\n",
              "      <td>5</td>\n",
              "      <td>Andaman &amp; Nicobar islands</td>\n",
              "      <td>0</td>\n",
              "      <td>0</td>\n",
              "      <td>82</td>\n",
              "      <td>0</td>\n",
              "      <td>82</td>\n",
              "    </tr>\n",
              "  </tbody>\n",
              "</table>\n",
              "</div>\n",
              "      <button class=\"colab-df-convert\" onclick=\"convertToInteractive('df-4c80e22f-78a5-4ec2-9e07-265b1cb0e133')\"\n",
              "              title=\"Convert this dataframe to an interactive table.\"\n",
              "              style=\"display:none;\">\n",
              "        \n",
              "  <svg xmlns=\"http://www.w3.org/2000/svg\" height=\"24px\"viewBox=\"0 0 24 24\"\n",
              "       width=\"24px\">\n",
              "    <path d=\"M0 0h24v24H0V0z\" fill=\"none\"/>\n",
              "    <path d=\"M18.56 5.44l.94 2.06.94-2.06 2.06-.94-2.06-.94-.94-2.06-.94 2.06-2.06.94zm-11 1L8.5 8.5l.94-2.06 2.06-.94-2.06-.94L8.5 2.5l-.94 2.06-2.06.94zm10 10l.94 2.06.94-2.06 2.06-.94-2.06-.94-.94-2.06-.94 2.06-2.06.94z\"/><path d=\"M17.41 7.96l-1.37-1.37c-.4-.4-.92-.59-1.43-.59-.52 0-1.04.2-1.43.59L10.3 9.45l-7.72 7.72c-.78.78-.78 2.05 0 2.83L4 21.41c.39.39.9.59 1.41.59.51 0 1.02-.2 1.41-.59l7.78-7.78 2.81-2.81c.8-.78.8-2.07 0-2.86zM5.41 20L4 18.59l7.72-7.72 1.47 1.35L5.41 20z\"/>\n",
              "  </svg>\n",
              "      </button>\n",
              "      \n",
              "  <style>\n",
              "    .colab-df-container {\n",
              "      display:flex;\n",
              "      flex-wrap:wrap;\n",
              "      gap: 12px;\n",
              "    }\n",
              "\n",
              "    .colab-df-convert {\n",
              "      background-color: #E8F0FE;\n",
              "      border: none;\n",
              "      border-radius: 50%;\n",
              "      cursor: pointer;\n",
              "      display: none;\n",
              "      fill: #1967D2;\n",
              "      height: 32px;\n",
              "      padding: 0 0 0 0;\n",
              "      width: 32px;\n",
              "    }\n",
              "\n",
              "    .colab-df-convert:hover {\n",
              "      background-color: #E2EBFA;\n",
              "      box-shadow: 0px 1px 2px rgba(60, 64, 67, 0.3), 0px 1px 3px 1px rgba(60, 64, 67, 0.15);\n",
              "      fill: #174EA6;\n",
              "    }\n",
              "\n",
              "    [theme=dark] .colab-df-convert {\n",
              "      background-color: #3B4455;\n",
              "      fill: #D2E3FC;\n",
              "    }\n",
              "\n",
              "    [theme=dark] .colab-df-convert:hover {\n",
              "      background-color: #434B5C;\n",
              "      box-shadow: 0px 1px 3px 1px rgba(0, 0, 0, 0.15);\n",
              "      filter: drop-shadow(0px 1px 2px rgba(0, 0, 0, 0.3));\n",
              "      fill: #FFFFFF;\n",
              "    }\n",
              "  </style>\n",
              "\n",
              "      <script>\n",
              "        const buttonEl =\n",
              "          document.querySelector('#df-4c80e22f-78a5-4ec2-9e07-265b1cb0e133 button.colab-df-convert');\n",
              "        buttonEl.style.display =\n",
              "          google.colab.kernel.accessAllowed ? 'block' : 'none';\n",
              "\n",
              "        async function convertToInteractive(key) {\n",
              "          const element = document.querySelector('#df-4c80e22f-78a5-4ec2-9e07-265b1cb0e133');\n",
              "          const dataTable =\n",
              "            await google.colab.kernel.invokeFunction('convertToInteractive',\n",
              "                                                     [key], {});\n",
              "          if (!dataTable) return;\n",
              "\n",
              "          const docLinkHtml = 'Like what you see? Visit the ' +\n",
              "            '<a target=\"_blank\" href=https://colab.research.google.com/notebooks/data_table.ipynb>data table notebook</a>'\n",
              "            + ' to learn more about interactive tables.';\n",
              "          element.innerHTML = '';\n",
              "          dataTable['output_type'] = 'display_data';\n",
              "          await google.colab.output.renderOutput(dataTable, element);\n",
              "          const docLink = document.createElement('div');\n",
              "          docLink.innerHTML = docLinkHtml;\n",
              "          element.appendChild(docLink);\n",
              "        }\n",
              "      </script>\n",
              "    </div>\n",
              "  </div>\n",
              "  "
            ]
          },
          "metadata": {},
          "execution_count": 49
        }
      ]
    },
    {
      "cell_type": "code",
      "source": [
        "sns.countplot(x='Three Wheelers (Category L5 as per CMVR)',data=df) "
      ],
      "metadata": {
        "colab": {
          "base_uri": "https://localhost:8080/",
          "height": 466
        },
        "id": "MYzhUHdmpAGb",
        "outputId": "1e471041-4aa6-45d2-8791-5e293cebf223"
      },
      "execution_count": null,
      "outputs": [
        {
          "output_type": "execute_result",
          "data": {
            "text/plain": [
              "<Axes: xlabel='Three Wheelers (Category L5 as per CMVR)', ylabel='count'>"
            ]
          },
          "metadata": {},
          "execution_count": 52
        },
        {
          "output_type": "display_data",
          "data": {
            "text/plain": [
              "<Figure size 640x480 with 1 Axes>"
            ],
            "image/png": "[encoded data removed]"
          },
          "metadata": {}
        }
      ]
    },
    {
      "cell_type": "code",
      "source": [
        "sns.countplot(x='Two Wheelers (Category L2 (CMVR))',data=df) "
      ],
      "metadata": {
        "colab": {
          "base_uri": "https://localhost:8080/",
          "height": 466
        },
        "id": "xeMHGaDRpOue",
        "outputId": "29e6695d-13aa-4204-bcbf-ed344eb596cd"
      },
      "execution_count": null,
      "outputs": [
        {
          "output_type": "execute_result",
          "data": {
            "text/plain": [
              "<Axes: xlabel='Two Wheelers (Category L2 (CMVR))', ylabel='count'>"
            ]
          },
          "metadata": {},
          "execution_count": 51
        },
        {
          "output_type": "display_data",
          "data": {
            "text/plain": [
              "<Figure size 640x480 with 1 Axes>"
            ],
            "image/png": "[encoded data removed]"
          },
          "metadata": {}
        }
      ]
    },
    {
      "cell_type": "code",
      "source": [
        "sns.countplot(x='Buses',data=df) "
      ],
      "metadata": {
        "id": "FmXVv-VFiEb6",
        "outputId": "80e69e20-e54b-4789-f4b4-284731bb10d7",
        "colab": {
          "base_uri": "https://localhost:8080/",
          "height": 466
        }
      },
      "execution_count": null,
      "outputs": [
        {
          "output_type": "execute_result",
          "data": {
            "text/plain": [
              "<Axes: xlabel='Buses', ylabel='count'>"
            ]
          },
          "metadata": {},
          "execution_count": 53
        },
        {
          "output_type": "display_data",
          "data": {
            "text/plain": [
              "<Figure size 640x480 with 1 Axes>"
            ],
            "image/png": "[encoded data removed]"
          },
          "metadata": {}
        }
      ]
    }
  ]
}